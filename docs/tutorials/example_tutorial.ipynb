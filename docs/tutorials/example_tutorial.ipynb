{
 "cells": [
  {
   "cell_type": "markdown",
   "id": "0f9cd670",
   "metadata": {},
   "source": [
    "# Quantum Prototype Tutorial\n",
    "\n",
    "In the software tutorial, the user needs to *do* things. The idea is to teach the user a wide range of tools and operations, building up from the simplest ones at the start to more complex ones."
   ]
  },
  {
   "cell_type": "markdown",
   "id": "aa14a920",
   "metadata": {},
   "source": [
    "## How to write good tutorials\n",
    "<https://documentation.divio.com/tutorials/#how-to-write-good-tutorials>\n",
    "\n",
    "### Allow the user to learn by doing\n",
    "\n",
    "##### In the beginning, we only learn anything by doing - it’s how we learn to talk, or walk.\n",
    "\n",
    "In your software tutorial, your learner needs to do things. The different things that they do while following your tutorial need to cover a wide range of tools and operations, building up from the simplest ones at the start to more complex ones.\n",
    "\n",
    "### Get the user started\n",
    "\n",
    "It’s perfectly acceptable if your beginner’s first steps are hand-held baby steps. It’s also perfectly acceptable if what you get the beginner to do is not the way an experienced person would, or even if it’s not the ‘correct’ way - a tutorial for beginners is not the same thing as a manual for best practice.\n",
    "\n",
    "The point of a tutorial is to get your learner **started on their journey**, not to get them to a final destination.\n",
    "\n",
    "### Make sure that your tutorial works\n",
    "\n",
    "One of your jobs as a tutor is to inspire the beginner’s confidence: in the software, in the tutorial, in the tutor and, of course, in their own ability to achieve what’s being asked of them.\n",
    "\n",
    "There are many things that contribute to this. A friendly tone helps, as does consistent use of language, and a logical progression through the material. But the single most important thing is that **what you ask the beginner to do must work**. The learner needs to see that the actions you ask them to take have the effect you say they will have.\n",
    "\n",
    "If the learner’s actions produce an error or unexpected results, your tutorial has failed - even if it’s not your fault. When your students are there with you, you can rescue them; if they’re reading your documentation on their own you can’t - so you have to prevent that from happening in advance. This is without doubt easier said than done.\n",
    "\n",
    "### Ensure the user sees results immediately\n",
    "\n",
    "**Everything the learner does should accomplish something comprehensible, however small.** If your student has to do strange and incomprehensible things for two pages before they even see a result, that’s much too long. The effect of every action should be visible and evident as soon as possible, and the connection to the action should be clear.\n",
    "\n",
    "The conclusion of each section of a tutorial, or the tutorial as a whole, must be a meaningful accomplishment.\n",
    "\n",
    "### Make your tutorial repeatable\n",
    "\n",
    "**Your tutorial must be reliably repeatable.** This not easy to achieve: people will be coming to it with different operating systems, levels of experience and tools. What’s more, any software or resources they use are quite likely themselves to change in the meantime.\n",
    "\n",
    "The tutorial has to work for all of them, every time.\n",
    "\n",
    "Tutorials unfortunately need regular and detailed testing to make sure that they still work.\n",
    "\n",
    "### Focus on concrete steps, not abstract concepts\n",
    "\n",
    "**Tutorials need to be concrete**, built around specific, particular actions and outcomes.\n",
    "\n",
    "The temptation to introduce abstraction is huge; it is after all how most computing derives its power. But all learning proceeds from the particular and concrete to the general and abstract, and asking the learner to appreciate levels of abstraction before they have even had a chance to grasp the concrete is poor teaching.\n",
    "\n",
    "### Provide the minimum necessary explanation\n",
    "\n",
    "**Don’t explain anything the learner doesn’t need to know in order to complete the tutorial.** Extended discussion is important - just not in a tutorial. In a tutorial, it is an obstruction and a distraction. Only the bare minimum is appropriate. Instead, link to explanations elsewhere in the documentation.\n",
    "\n",
    "### Focus only on the steps the user needs to take\n",
    "\n",
    "**Your tutorial needs to be focused on the task in hand.** Maybe the command you’re introducing has many other options, or maybe there are different ways to access a certain API. It doesn’t matter: right now, your learner does not need to know about those in order to make progress."
   ]
  }
 ],
 "metadata": {
  "kernelspec": {
   "display_name": "Python 3",
   "language": "python",
   "name": "python3"
  },
  "language_info": {
   "codemirror_mode": {
    "name": "ipython",
    "version": 3
   },
   "file_extension": ".py",
   "mimetype": "text/x-python",
   "name": "python",
   "nbconvert_exporter": "python",
   "pygments_lexer": "ipython3",
   "version": "3.8.10"
  }
 },
 "nbformat": 4,
 "nbformat_minor": 5
}
